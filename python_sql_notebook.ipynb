{
  "nbformat": 4,
  "nbformat_minor": 0,
  "metadata": {
    "colab": {
      "provenance": [],
      "authorship_tag": "ABX9TyPsNj7jDKh47I3IOk3jKZXb",
      "include_colab_link": true
    },
    "kernelspec": {
      "name": "python3",
      "display_name": "Python 3"
    },
    "language_info": {
      "name": "python"
    }
  },
  "cells": [
    {
      "cell_type": "markdown",
      "metadata": {
        "id": "view-in-github",
        "colab_type": "text"
      },
      "source": [
        "<a href=\"https://colab.research.google.com/github/amzad-786githumb/SQLite_for_Python_and_R/blob/main/python_sql_notebook.ipynb\" target=\"_parent\"><img src=\"https://colab.research.google.com/assets/colab-badge.svg\" alt=\"Open In Colab\"/></a>"
      ]
    },
    {
      "cell_type": "markdown",
      "source": [
        "<h1>Library to write SQL queries</h1>"
      ],
      "metadata": {
        "id": "YT3nhmaO2yXz"
      }
    },
    {
      "cell_type": "markdown",
      "source": [
        "<p>\n",
        "python-sql is a library to write SQL queries in a pythonic way.</p>"
      ],
      "metadata": {
        "id": "ivyQCHEI3C3Q"
      }
    },
    {
      "cell_type": "code",
      "execution_count": 1,
      "metadata": {
        "colab": {
          "base_uri": "https://localhost:8080/"
        },
        "id": "lkQOHPqx2fAX",
        "outputId": "a08bb8da-c854-44cd-ebf1-390646b872f3"
      },
      "outputs": [
        {
          "output_type": "stream",
          "name": "stdout",
          "text": [
            "Collecting python-sql\n",
            "  Downloading python_sql-1.5.2-py3-none-any.whl.metadata (8.5 kB)\n",
            "Downloading python_sql-1.5.2-py3-none-any.whl (48 kB)\n",
            "\u001b[?25l   \u001b[90m━━━━━━━━━━━━━━━━━━━━━━━━━━━━━━━━━━━━━━━━\u001b[0m \u001b[32m0.0/48.8 kB\u001b[0m \u001b[31m?\u001b[0m eta \u001b[36m-:--:--\u001b[0m\r\u001b[2K   \u001b[90m━━━━━━━━━━━━━━━━━━━━━━━━━━━━━━━━━━━━━━━━\u001b[0m \u001b[32m48.8/48.8 kB\u001b[0m \u001b[31m3.0 MB/s\u001b[0m eta \u001b[36m0:00:00\u001b[0m\n",
            "\u001b[?25hInstalling collected packages: python-sql\n",
            "Successfully installed python-sql-1.5.2\n"
          ]
        }
      ],
      "source": [
        "pip install python-sql"
      ]
    },
    {
      "cell_type": "markdown",
      "source": [
        "<h2>Import:</h2>"
      ],
      "metadata": {
        "id": "l0lV5b9l3KxE"
      }
    },
    {
      "cell_type": "code",
      "source": [
        "from sql import *\n",
        "from sql.aggregate import *\n",
        "from sql.conditionals import *"
      ],
      "metadata": {
        "id": "bn3EoHGV3Pir"
      },
      "execution_count": 2,
      "outputs": []
    },
    {
      "cell_type": "markdown",
      "source": [
        "<h3>Simple selects:</h3>"
      ],
      "metadata": {
        "id": "2PdNT0bZ5ld4"
      }
    },
    {
      "cell_type": "code",
      "source": [
        "user = Table('user')\n",
        "select = user.select()\n",
        "tuple(select)\n",
        "('SELECT * FROM \"user\" AS \"a\"', ())"
      ],
      "metadata": {
        "colab": {
          "base_uri": "https://localhost:8080/"
        },
        "id": "i6jpU92k3grF",
        "outputId": "303ddde0-6d53-4931-96d7-1cda4550f1d4"
      },
      "execution_count": 3,
      "outputs": [
        {
          "output_type": "execute_result",
          "data": {
            "text/plain": [
              "('SELECT * FROM \"user\" AS \"a\"', ())"
            ]
          },
          "metadata": {},
          "execution_count": 3
        }
      ]
    },
    {
      "cell_type": "code",
      "source": [
        "select = user.select(user.name)\n",
        "tuple(select)\n",
        "('SELECT \"a\".\"name\" FROM \"user\" AS \"a\"', ())"
      ],
      "metadata": {
        "colab": {
          "base_uri": "https://localhost:8080/"
        },
        "id": "gV8Wvtry4ICo",
        "outputId": "48a163f9-e165-4d31-9964-6d882e484029"
      },
      "execution_count": 4,
      "outputs": [
        {
          "output_type": "execute_result",
          "data": {
            "text/plain": [
              "('SELECT \"a\".\"name\" FROM \"user\" AS \"a\"', ())"
            ]
          },
          "metadata": {},
          "execution_count": 4
        }
      ]
    },
    {
      "cell_type": "code",
      "source": [
        "select = user.select(Count(Literal(1)))\n",
        "tuple(select)\n",
        "('SELECT COUNT(%s) FROM \"user\" AS \"a\"', (1,))"
      ],
      "metadata": {
        "colab": {
          "base_uri": "https://localhost:8080/"
        },
        "id": "JRHAYrPV4sPK",
        "outputId": "aea4f2c7-db41-4cab-8b7e-ce6569898952"
      },
      "execution_count": 5,
      "outputs": [
        {
          "output_type": "execute_result",
          "data": {
            "text/plain": [
              "('SELECT COUNT(%s) FROM \"user\" AS \"a\"', (1,))"
            ]
          },
          "metadata": {},
          "execution_count": 5
        }
      ]
    },
    {
      "cell_type": "code",
      "source": [
        "select = user.select(user.name, distinct=True)\n",
        "tuple(select)\n",
        "('SELECT DISTINCT \"a\".\"name\" FROM \"user\" AS \"a\"', ())"
      ],
      "metadata": {
        "colab": {
          "base_uri": "https://localhost:8080/"
        },
        "id": "KSmEiftA4z-w",
        "outputId": "50092d18-deb6-4ee8-ff7b-205832795be9"
      },
      "execution_count": 6,
      "outputs": [
        {
          "output_type": "execute_result",
          "data": {
            "text/plain": [
              "('SELECT DISTINCT \"a\".\"name\" FROM \"user\" AS \"a\"', ())"
            ]
          },
          "metadata": {},
          "execution_count": 6
        }
      ]
    },
    {
      "cell_type": "code",
      "source": [
        "select = user.select(user.id, user.name)\n",
        "tuple(select)\n",
        "('SELECT \"a\".\"id\", \"a\".\"name\" FROM \"user\" AS \"a\"', ())"
      ],
      "metadata": {
        "colab": {
          "base_uri": "https://localhost:8080/"
        },
        "id": "49oWN_eN49Sg",
        "outputId": "87e44c28-3110-4ae5-de10-05c84ff98796"
      },
      "execution_count": 7,
      "outputs": [
        {
          "output_type": "execute_result",
          "data": {
            "text/plain": [
              "('SELECT \"a\".\"id\", \"a\".\"name\" FROM \"user\" AS \"a\"', ())"
            ]
          },
          "metadata": {},
          "execution_count": 7
        }
      ]
    },
    {
      "cell_type": "markdown",
      "source": [
        "<h3>Select with where condition:</h3>"
      ],
      "metadata": {
        "id": "IGjhKv605aYC"
      }
    },
    {
      "cell_type": "code",
      "source": [
        "select.where = user.name == 'foo'\n",
        "tuple(select)\n",
        "('SELECT \"a\".\"id\", \"a\".\"name\" FROM \"user\" AS \"a\" WHERE (\"a\".\"name\" = %s)', ('foo',))"
      ],
      "metadata": {
        "colab": {
          "base_uri": "https://localhost:8080/"
        },
        "id": "mo2kZS9P5dLM",
        "outputId": "0ad31c9e-83d6-4ea8-ea2d-7f89605ca615"
      },
      "execution_count": 8,
      "outputs": [
        {
          "output_type": "execute_result",
          "data": {
            "text/plain": [
              "('SELECT \"a\".\"id\", \"a\".\"name\" FROM \"user\" AS \"a\" WHERE (\"a\".\"name\" = %s)',\n",
              " ('foo',))"
            ]
          },
          "metadata": {},
          "execution_count": 8
        }
      ]
    },
    {
      "cell_type": "code",
      "source": [
        "select.where = (user.name == 'foo') & (user.active == True)\n",
        "tuple(select)\n",
        "('SELECT \"a\".\"id\", \"a\".\"name\" FROM \"user\" AS \"a\" WHERE ((\"a\".\"name\" = %s) AND (\"a\".\"active\" = %s))', ('foo', True))\n",
        "select.where = user.name == user.login\n",
        "tuple(select)\n",
        "('SELECT \"a\".\"id\", \"a\".\"name\" FROM \"user\" AS \"a\" WHERE (\"a\".\"name\" = \"a\".\"login\")', ())"
      ],
      "metadata": {
        "colab": {
          "base_uri": "https://localhost:8080/"
        },
        "id": "3P_bDM_36ES-",
        "outputId": "63b7c22e-5074-4eeb-cc53-be742cd0416e"
      },
      "execution_count": 10,
      "outputs": [
        {
          "output_type": "execute_result",
          "data": {
            "text/plain": [
              "('SELECT \"a\".\"id\", \"a\".\"name\" FROM \"user\" AS \"a\" WHERE (\"a\".\"name\" = \"a\".\"login\")',\n",
              " ())"
            ]
          },
          "metadata": {},
          "execution_count": 9
        },
        {
          "output_type": "execute_result",
          "data": {
            "text/plain": [
              "('SELECT \"a\".\"id\", \"a\".\"name\" FROM \"user\" AS \"a\" WHERE (\"a\".\"name\" = \"a\".\"login\")',\n",
              " ())"
            ]
          },
          "metadata": {},
          "execution_count": 10
        }
      ]
    },
    {
      "cell_type": "markdown",
      "source": [
        "<h3>Select with join:</h3>"
      ],
      "metadata": {
        "id": "d4qz3BdY64z5"
      }
    },
    {
      "cell_type": "code",
      "source": [
        "join = user.join(Table('user_group'))\n",
        "join.condition = join.right.user == user.id\n",
        "select = join.select(user.name, join.right.group)\n",
        "tuple(select)\n",
        "('SELECT \"a\".\"name\", \"b\".\"group\" FROM \"user\" AS \"a\" INNER JOIN \"user_group\" AS \"b\" ON (\"b\".\"user\" = \"a\".\"id\")', ())"
      ],
      "metadata": {
        "colab": {
          "base_uri": "https://localhost:8080/"
        },
        "id": "ntydedWe67nS",
        "outputId": "9aa48d67-11e4-4f1d-a0b2-cd4a954c49cd"
      },
      "execution_count": 11,
      "outputs": [
        {
          "output_type": "execute_result",
          "data": {
            "text/plain": [
              "('SELECT \"a\".\"name\", \"b\".\"group\" FROM \"user\" AS \"a\" INNER JOIN \"user_group\" AS \"b\" ON (\"b\".\"user\" = \"a\".\"id\")',\n",
              " ())"
            ]
          },
          "metadata": {},
          "execution_count": 11
        }
      ]
    },
    {
      "cell_type": "markdown",
      "source": [
        "<h3>Select with multiple joins:</h3>"
      ],
      "metadata": {
        "id": "CBmv9pZS7cwM"
      }
    },
    {
      "cell_type": "code",
      "source": [
        "join1 = user.join(Table('user'))\n",
        "join2 = join1.join(Table('user'))\n",
        "select = join2.select(user.id, join1.right.id, join2.right.id)\n",
        "tuple(select)\n",
        "('SELECT \"a\".\"id\", \"b\".\"id\", \"c\".\"id\" FROM \"user\" AS \"a\" INNER JOIN \"user\" AS \"b\" INNER JOIN \"user\" AS \"c\"', ())"
      ],
      "metadata": {
        "colab": {
          "base_uri": "https://localhost:8080/"
        },
        "id": "2l_JTnFX7fLo",
        "outputId": "93a963bb-3c36-4584-e413-da552e5f7545"
      },
      "execution_count": 12,
      "outputs": [
        {
          "output_type": "execute_result",
          "data": {
            "text/plain": [
              "('SELECT \"a\".\"id\", \"b\".\"id\", \"c\".\"id\" FROM \"user\" AS \"a\" INNER JOIN \"user\" AS \"b\" INNER JOIN \"user\" AS \"c\"',\n",
              " ())"
            ]
          },
          "metadata": {},
          "execution_count": 12
        }
      ]
    },
    {
      "cell_type": "markdown",
      "source": [
        "<h3>Select with group_by:</h3>"
      ],
      "metadata": {
        "id": "tdIpDHpK7-OY"
      }
    },
    {
      "cell_type": "code",
      "source": [
        "invoice = Table('invoice')\n",
        "select = invoice.select(Sum(invoice.amount), invoice.currency, group_by=invoice.currency)\n",
        "tuple(select)\n",
        "('SELECT SUM(\"a\".\"amount\"), \"a\".\"currency\" FROM \"invoice\" AS \"a\" GROUP BY \"a\".\"currency\"', ())"
      ],
      "metadata": {
        "colab": {
          "base_uri": "https://localhost:8080/"
        },
        "id": "Ip0jqJ8R8B1L",
        "outputId": "33936cb5-85cc-49f0-e7a5-f965a3e2d98b"
      },
      "execution_count": 14,
      "outputs": [
        {
          "output_type": "execute_result",
          "data": {
            "text/plain": [
              "('SELECT SUM(\"a\".\"amount\"), \"a\".\"currency\" FROM \"invoice\" AS \"a\" GROUP BY \"a\".\"currency\"',\n",
              " ())"
            ]
          },
          "metadata": {},
          "execution_count": 14
        }
      ]
    },
    {
      "cell_type": "markdown",
      "source": [
        "<h3>Select with output name:</h3>"
      ],
      "metadata": {
        "id": "k4y3Lbk58nbR"
      }
    },
    {
      "cell_type": "code",
      "source": [
        "tuple(user.select(user.name.as_('First Name')))\n",
        "('SELECT \"a\".\"name\" AS \"First Name\" FROM \"user\" AS \"a\"', ())"
      ],
      "metadata": {
        "colab": {
          "base_uri": "https://localhost:8080/"
        },
        "id": "4WJBc5I88qM9",
        "outputId": "7af472a0-e1df-43ec-f1ad-deca8e45eb3b"
      },
      "execution_count": 15,
      "outputs": [
        {
          "output_type": "execute_result",
          "data": {
            "text/plain": [
              "('SELECT \"a\".\"name\" AS \"First Name\" FROM \"user\" AS \"a\"', ())"
            ]
          },
          "metadata": {},
          "execution_count": 15
        }
      ]
    },
    {
      "cell_type": "markdown",
      "source": [
        "<h3>Select with order_by:</h3>"
      ],
      "metadata": {
        "id": "tvlfIA-_9Af3"
      }
    },
    {
      "cell_type": "code",
      "source": [
        "tuple(user.select(order_by=user.date))\n",
        "('SELECT * FROM \"user\" AS \"a\" ORDER BY \"a\".\"date\"', ())\n",
        "tuple(user.select(order_by=Asc(user.date)))\n",
        "('SELECT * FROM \"user\" AS \"a\" ORDER BY \"a\".\"date\" ASC', ())\n",
        "tuple(user.select(order_by=(user.date.asc, user.id.desc)))\n",
        "('SELECT * FROM \"user\" AS \"a\" ORDER BY \"a\".\"date\" ASC, \"a\".\"id\" DESC', ())"
      ],
      "metadata": {
        "colab": {
          "base_uri": "https://localhost:8080/"
        },
        "id": "zCjezS-K9EIy",
        "outputId": "c56f16c2-45a5-4cdc-ce6e-22c22616422a"
      },
      "execution_count": 16,
      "outputs": [
        {
          "output_type": "execute_result",
          "data": {
            "text/plain": [
              "('SELECT * FROM \"user\" AS \"a\" ORDER BY \"a\".\"date\" ASC, \"a\".\"id\" DESC', ())"
            ]
          },
          "metadata": {},
          "execution_count": 16
        }
      ]
    },
    {
      "cell_type": "markdown",
      "source": [
        "<h3>Select with sub-select:</h3>"
      ],
      "metadata": {
        "id": "B2c7t3vp990H"
      }
    },
    {
      "cell_type": "code",
      "source": [
        "user_group = Table('user_group')\n",
        "subselect = user_group.select(user_group.user, where=user_group.active == True)\n",
        "user = Table('user')\n",
        "tuple(user.select(user.id, where=user.id.in_(subselect)))\n",
        "('SELECT \"a\".\"id\" FROM \"user\" AS \"a\" WHERE (\"a\".\"id\" IN (SELECT \"b\".\"user\" FROM \"user_group\" AS \"b\" WHERE (\"b\".\"active\" = %s)))', (True,))\n",
        "tuple(subselect.select(subselect.user))\n",
        "('SELECT \"a\".\"user\" FROM (SELECT \"b\".\"user\" FROM \"user_group\" AS \"b\" WHERE (\"b\".\"active\" = %s)) AS \"a\"', (True,))"
      ],
      "metadata": {
        "colab": {
          "base_uri": "https://localhost:8080/"
        },
        "id": "F7ic13I49K4U",
        "outputId": "a1e6bf26-70fb-4890-effe-0b4b7ed16939"
      },
      "execution_count": 17,
      "outputs": [
        {
          "output_type": "execute_result",
          "data": {
            "text/plain": [
              "('SELECT \"a\".\"user\" FROM (SELECT \"b\".\"user\" FROM \"user_group\" AS \"b\" WHERE (\"b\".\"active\" = %s)) AS \"a\"',\n",
              " (True,))"
            ]
          },
          "metadata": {},
          "execution_count": 17
        }
      ]
    },
    {
      "cell_type": "markdown",
      "source": [
        "<h3>Select on other schema:</h3>"
      ],
      "metadata": {
        "id": "a2wwv0Qv-Zem"
      }
    },
    {
      "cell_type": "code",
      "source": [
        "other_table = Table('user', 'myschema')\n",
        "tuple(other_table.select())\n",
        "('SELECT * FROM \"myschema\".\"user\" AS \"a\"', ())"
      ],
      "metadata": {
        "colab": {
          "base_uri": "https://localhost:8080/"
        },
        "id": "3uu_H2kR-cAQ",
        "outputId": "232579f0-b849-44d0-c818-3c150cf3c1c8"
      },
      "execution_count": 18,
      "outputs": [
        {
          "output_type": "execute_result",
          "data": {
            "text/plain": [
              "('SELECT * FROM \"myschema\".\"user\" AS \"a\"', ())"
            ]
          },
          "metadata": {},
          "execution_count": 18
        }
      ]
    },
    {
      "cell_type": "markdown",
      "source": [
        "<h3>Insert query with default values:</h3>"
      ],
      "metadata": {
        "id": "U7gj0u03-qT2"
      }
    },
    {
      "cell_type": "code",
      "source": [
        "tuple(user.insert())\n",
        "('INSERT INTO \"user\" AS \"a\" DEFAULT VALUES', ())"
      ],
      "metadata": {
        "colab": {
          "base_uri": "https://localhost:8080/"
        },
        "id": "1bOwtoFV-ggq",
        "outputId": "bd4ea9d4-bf07-425d-8cb6-9ec37f8aef89"
      },
      "execution_count": 20,
      "outputs": [
        {
          "output_type": "execute_result",
          "data": {
            "text/plain": [
              "('INSERT INTO \"user\" AS \"a\" DEFAULT VALUES', ())"
            ]
          },
          "metadata": {},
          "execution_count": 20
        }
      ]
    },
    {
      "cell_type": "markdown",
      "source": [
        "<h3>Insert query with values:</h3>"
      ],
      "metadata": {
        "id": "jk-0BfDZ-zVW"
      }
    },
    {
      "cell_type": "code",
      "source": [
        "tuple(user.insert(columns=[user.name, user.login], values=[['Foo', 'foo']]))\n",
        "('INSERT INTO \"user\" AS \"a\" (\"name\", \"login\") VALUES (%s, %s)', ('Foo', 'foo'))\n",
        "tuple(user.insert(columns=[user.name, user.login], values=[['Foo', 'foo'], ['Bar', 'bar']]))\n",
        "('INSERT INTO \"user\" AS \"a\" (\"name\", \"login\") VALUES (%s, %s), (%s, %s)', ('Foo', 'foo', 'Bar', 'bar'))"
      ],
      "metadata": {
        "colab": {
          "base_uri": "https://localhost:8080/"
        },
        "id": "SxakVsqA-4KC",
        "outputId": "82baad89-c3a9-4141-ed0c-8af8b59aa59b"
      },
      "execution_count": 21,
      "outputs": [
        {
          "output_type": "execute_result",
          "data": {
            "text/plain": [
              "('INSERT INTO \"user\" AS \"a\" (\"name\", \"login\") VALUES (%s, %s), (%s, %s)',\n",
              " ('Foo', 'foo', 'Bar', 'bar'))"
            ]
          },
          "metadata": {},
          "execution_count": 21
        }
      ]
    },
    {
      "cell_type": "markdown",
      "source": [
        "<h3>Insert query with query:</h3>"
      ],
      "metadata": {
        "id": "rkPAfuo5_Ny-"
      }
    },
    {
      "cell_type": "code",
      "source": [
        "passwd = Table('passwd')\n",
        "select = passwd.select(passwd.login, passwd.passwd)\n",
        "tuple(user.insert(values=select))\n",
        "('INSERT INTO \"user\" AS \"b\" SELECT \"a\".\"login\", \"a\".\"passwd\" FROM \"passwd\" AS \"a\"', ())"
      ],
      "metadata": {
        "colab": {
          "base_uri": "https://localhost:8080/"
        },
        "id": "VTVoLg2Q_Tpa",
        "outputId": "a1f34152-2aac-4f7d-b498-5dbd384220d1"
      },
      "execution_count": 22,
      "outputs": [
        {
          "output_type": "execute_result",
          "data": {
            "text/plain": [
              "('INSERT INTO \"user\" AS \"b\" SELECT \"a\".\"login\", \"a\".\"passwd\" FROM \"passwd\" AS \"a\"',\n",
              " ())"
            ]
          },
          "metadata": {},
          "execution_count": 22
        }
      ]
    },
    {
      "cell_type": "markdown",
      "source": [
        "<h3>Update query with values:</h3>"
      ],
      "metadata": {
        "id": "UY_2ltTS_enq"
      }
    },
    {
      "cell_type": "code",
      "source": [
        "tuple(user.update(columns=[user.active], values=[True]))\n",
        "('UPDATE \"user\" AS \"a\" SET \"active\" = %s', (True,))\n",
        "tuple(invoice.update(columns=[invoice.total], values=[invoice.amount + invoice.tax]))\n",
        "('UPDATE \"invoice\" AS \"a\" SET \"total\" = (\"a\".\"amount\" + \"a\".\"tax\")', ())"
      ],
      "metadata": {
        "colab": {
          "base_uri": "https://localhost:8080/"
        },
        "id": "QgHCxp7l_jU4",
        "outputId": "3fda52b2-beb6-4d9d-c4b0-8ef81bdb2350"
      },
      "execution_count": 23,
      "outputs": [
        {
          "output_type": "execute_result",
          "data": {
            "text/plain": [
              "('UPDATE \"invoice\" AS \"a\" SET \"total\" = (\"a\".\"amount\" + \"a\".\"tax\")', ())"
            ]
          },
          "metadata": {},
          "execution_count": 23
        }
      ]
    },
    {
      "cell_type": "markdown",
      "source": [
        "<h3>Update query with where condition:</h3>"
      ],
      "metadata": {
        "id": "tLWAGGWn_ypd"
      }
    },
    {
      "cell_type": "code",
      "source": [
        "tuple(user.update(columns=[user.active], values=[True], where=user.active == False))\n",
        "('UPDATE \"user\" AS \"a\" SET \"active\" = %s WHERE (\"a\".\"active\" = %s)', (True, False))"
      ],
      "metadata": {
        "colab": {
          "base_uri": "https://localhost:8080/"
        },
        "id": "tIjTdz6C_pky",
        "outputId": "47f89f10-ca22-431d-a364-fcb65a8e425f"
      },
      "execution_count": 24,
      "outputs": [
        {
          "output_type": "execute_result",
          "data": {
            "text/plain": [
              "('UPDATE \"user\" AS \"a\" SET \"active\" = %s WHERE (\"a\".\"active\" = %s)',\n",
              " (True, False))"
            ]
          },
          "metadata": {},
          "execution_count": 24
        }
      ]
    },
    {
      "cell_type": "markdown",
      "source": [
        "<h3>Update query with from list:</h3>"
      ],
      "metadata": {
        "id": "gmE2cF9KAFAs"
      }
    },
    {
      "cell_type": "code",
      "source": [
        "group = Table('user_group')\n",
        "tuple(user.update(columns=[user.active], values=[group.active],\n",
        "from_=[group], where=user.id == group.user))\n",
        "('UPDATE \"user\" AS \"b\" SET \"active\" = \"a\".\"active\" FROM \"user_group\" AS \"a\" WHERE (\"b\".\"id\" = \"a\".\"user\")', ())"
      ],
      "metadata": {
        "colab": {
          "base_uri": "https://localhost:8080/"
        },
        "id": "540WwH2c_7px",
        "outputId": "7e3bb99a-e71a-4b0d-b1b5-b6c1fbad737b"
      },
      "execution_count": 25,
      "outputs": [
        {
          "output_type": "execute_result",
          "data": {
            "text/plain": [
              "('UPDATE \"user\" AS \"b\" SET \"active\" = \"a\".\"active\" FROM \"user_group\" AS \"a\" WHERE (\"b\".\"id\" = \"a\".\"user\")',\n",
              " ())"
            ]
          },
          "metadata": {},
          "execution_count": 25
        }
      ]
    },
    {
      "cell_type": "markdown",
      "source": [
        "<h3>Delete query:</h3>"
      ],
      "metadata": {
        "id": "VFkIuOBUAkMe"
      }
    },
    {
      "cell_type": "code",
      "source": [
        "tuple(user.delete())\n",
        "('DELETE FROM \"user\"', ())"
      ],
      "metadata": {
        "colab": {
          "base_uri": "https://localhost:8080/"
        },
        "id": "5Z7ONkxWAbZd",
        "outputId": "f5b71bdf-0458-4561-a72c-3aa43b4d0b4d"
      },
      "execution_count": 26,
      "outputs": [
        {
          "output_type": "execute_result",
          "data": {
            "text/plain": [
              "('DELETE FROM \"user\"', ())"
            ]
          },
          "metadata": {},
          "execution_count": 26
        }
      ]
    },
    {
      "cell_type": "markdown",
      "source": [
        "<h3>Delete query with where condition:</h3>"
      ],
      "metadata": {
        "id": "ab_tat-4A_Y8"
      }
    },
    {
      "cell_type": "code",
      "source": [
        "tuple(user.delete(where=user.name == 'foo'))\n",
        "('DELETE FROM \"user\" WHERE (\"name\" = %s)', ('foo',))"
      ],
      "metadata": {
        "colab": {
          "base_uri": "https://localhost:8080/"
        },
        "id": "xny-ZfrABDLl",
        "outputId": "cc6c8568-00c4-4dde-88e9-fa61eaf99db4"
      },
      "execution_count": 27,
      "outputs": [
        {
          "output_type": "execute_result",
          "data": {
            "text/plain": [
              "('DELETE FROM \"user\" WHERE (\"name\" = %s)', ('foo',))"
            ]
          },
          "metadata": {},
          "execution_count": 27
        }
      ]
    },
    {
      "cell_type": "markdown",
      "source": [
        "<h3>Delete query with sub-query:</h3>"
      ],
      "metadata": {
        "id": "m5ELsKcnBL13"
      }
    },
    {
      "cell_type": "code",
      "source": [
        "tuple(user.delete(where=user.id.in_(user_group.select(user_group.user))))\n",
        "('DELETE FROM \"user\" WHERE (\"id\" IN (SELECT \"a\".\"user\" FROM \"user_group\" AS \"a\"))', ())"
      ],
      "metadata": {
        "colab": {
          "base_uri": "https://localhost:8080/"
        },
        "id": "O3IeZsrWBPrj",
        "outputId": "b848f415-059a-4d1a-fd00-c1d677cda8f8"
      },
      "execution_count": 28,
      "outputs": [
        {
          "output_type": "execute_result",
          "data": {
            "text/plain": [
              "('DELETE FROM \"user\" WHERE (\"id\" IN (SELECT \"a\".\"user\" FROM \"user_group\" AS \"a\"))',\n",
              " ())"
            ]
          },
          "metadata": {},
          "execution_count": 28
        }
      ]
    },
    {
      "cell_type": "markdown",
      "source": [
        "<h3>Flavors:</h3>"
      ],
      "metadata": {
        "id": "-4En_GiDBabU"
      }
    },
    {
      "cell_type": "code",
      "source": [
        "select = user.select()\n",
        "select.offset = 10\n",
        "Flavor.set(Flavor())\n",
        "tuple(select)\n",
        "('SELECT * FROM \"user\" AS \"a\" OFFSET 10', ())\n",
        "Flavor.set(Flavor(max_limit=18446744073709551615))\n",
        "tuple(select)\n",
        "('SELECT * FROM \"user\" AS \"a\" LIMIT 18446744073709551615 OFFSET 10', ())\n",
        "Flavor.set(Flavor(max_limit=-1))\n",
        "tuple(select)\n",
        "('SELECT * FROM \"user\" AS \"a\" LIMIT -1 OFFSET 10', ())"
      ],
      "metadata": {
        "colab": {
          "base_uri": "https://localhost:8080/"
        },
        "id": "DxpJsaHKBeQl",
        "outputId": "d34456ce-d1f5-405f-ca3f-672b8e0cca8c"
      },
      "execution_count": 29,
      "outputs": [
        {
          "output_type": "execute_result",
          "data": {
            "text/plain": [
              "('SELECT * FROM \"user\" AS \"a\" LIMIT -1 OFFSET 10', ())"
            ]
          },
          "metadata": {},
          "execution_count": 29
        }
      ]
    },
    {
      "cell_type": "markdown",
      "source": [
        "<h3>Limit style:</h3>"
      ],
      "metadata": {
        "id": "BVNp86P-B6GD"
      }
    },
    {
      "cell_type": "code",
      "source": [
        "select = user.select(limit=10, offset=20)\n",
        "Flavor.set(Flavor(limitstyle='limit'))\n",
        "tuple(select)\n",
        "('SELECT * FROM \"user\" AS \"a\" LIMIT 10 OFFSET 20', ())\n",
        "Flavor.set(Flavor(limitstyle='fetch'))\n",
        "tuple(select)\n",
        "('SELECT * FROM \"user\" AS \"a\" OFFSET (20) ROWS FETCH FIRST (10) ROWS ONLY', ())\n",
        "Flavor.set(Flavor(limitstyle='rownum'))\n",
        "tuple(select)\n",
        "('SELECT \"a\".* FROM (SELECT \"b\".*, ROWNUM AS \"rnum\" FROM (SELECT * FROM \"user\" AS \"c\") AS \"b\" WHERE (ROWNUM <= %s)) AS \"a\" WHERE (\"rnum\" > %s)', (30, 20))"
      ],
      "metadata": {
        "colab": {
          "base_uri": "https://localhost:8080/"
        },
        "id": "GT1LKikWB9i8",
        "outputId": "a5822355-8536-481c-b151-288cb4d6d1aa"
      },
      "execution_count": 30,
      "outputs": [
        {
          "output_type": "execute_result",
          "data": {
            "text/plain": [
              "('SELECT \"a\".* FROM (SELECT \"b\".*, ROWNUM AS \"rnum\" FROM (SELECT * FROM \"user\" AS \"c\") AS \"b\" WHERE (ROWNUM <= %s)) AS \"a\" WHERE (\"rnum\" > %s)',\n",
              " (30, 20))"
            ]
          },
          "metadata": {},
          "execution_count": 30
        }
      ]
    },
    {
      "cell_type": "markdown",
      "source": [
        "<h3>qmark style:</h3>"
      ],
      "metadata": {
        "id": "8fVVb-gpCw7b"
      }
    },
    {
      "cell_type": "code",
      "source": [
        "Flavor.set(Flavor(paramstyle='qmark'))\n",
        "select = user.select()\n",
        "select.where = user.name == 'foo'\n",
        "tuple(select)\n",
        "('SELECT * FROM \"user\" AS \"a\" WHERE (\"a\".\"name\" = ?)', ('foo',))"
      ],
      "metadata": {
        "colab": {
          "base_uri": "https://localhost:8080/"
        },
        "id": "6b8fL75_C1mt",
        "outputId": "0ad78598-0061-43be-bc4d-330e166bdc72"
      },
      "execution_count": 31,
      "outputs": [
        {
          "output_type": "execute_result",
          "data": {
            "text/plain": [
              "('SELECT * FROM \"user\" AS \"a\" WHERE (\"a\".\"name\" = ?)', ('foo',))"
            ]
          },
          "metadata": {},
          "execution_count": 31
        }
      ]
    },
    {
      "cell_type": "markdown",
      "source": [
        "<h3>numeric style:</h3>"
      ],
      "metadata": {
        "id": "RRh3HpTXDGaL"
      }
    },
    {
      "cell_type": "code",
      "source": [
        "Flavor.set(Flavor(paramstyle='format'))\n",
        "select = user.select()\n",
        "select.where = user.name == 'foo'\n",
        "format2numeric(*select)\n",
        "('SELECT * FROM \"user\" AS \"a\" WHERE (\"a\".\"name\" = :0)', ('foo',))"
      ],
      "metadata": {
        "colab": {
          "base_uri": "https://localhost:8080/"
        },
        "id": "yaKkYfIuDJLr",
        "outputId": "287478cb-1f91-4a32-c595-8e2e26f74860"
      },
      "execution_count": 33,
      "outputs": [
        {
          "output_type": "execute_result",
          "data": {
            "text/plain": [
              "('SELECT * FROM \"user\" AS \"a\" WHERE (\"a\".\"name\" = :0)', ('foo',))"
            ]
          },
          "metadata": {},
          "execution_count": 33
        }
      ]
    },
    {
      "cell_type": "code",
      "source": [],
      "metadata": {
        "id": "cr1W4yxhDPhH"
      },
      "execution_count": null,
      "outputs": []
    }
  ]
}